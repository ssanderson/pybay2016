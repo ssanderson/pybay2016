{
 "cells": [
  {
   "cell_type": "code",
   "execution_count": 1,
   "metadata": {
    "collapsed": false,
    "slideshow": {
     "slide_type": "skip"
    }
   },
   "outputs": [
    {
     "name": "stdout",
     "output_type": "stream",
     "text": [
      "\u001b[31mCannot uninstall requirement switchcase, not installed\u001b[0m\n",
      "Drawing /home/ssanderson/projects/pybay2016/notebooks/images/compiler.svg\n",
      "Drawing /home/ssanderson/projects/pybay2016/notebooks/images/decoder.svg\n",
      "Drawing /home/ssanderson/projects/pybay2016/notebooks/images/importhook.svg\n",
      "Drawing /home/ssanderson/projects/pybay2016/notebooks/images/bytecode.svg\n"
     ]
    }
   ],
   "source": [
    "import dis\n",
    "import inspect\n",
    "import pprint\n",
    "import sys\n",
    "from textwrap import dedent\n",
    "import math\n",
    "\n",
    "from codetransformer.utils.pretty import a as show_ast, d as show_disassembly\n",
    "\n",
    "import pybay2016\n",
    "from pybay2016 import diagrams\n",
    "\n",
    "from pybay2016.tokens import show_tokens\n",
    "\n",
    "# Clean bytecode caches so that importing rot13 fails the first time.\n",
    "# This is using IPython's magic interpolation syntax.\n",
    "!pip uninstall switchcase\n",
    "!rm {pybay2016.__file__.replace('__init__.py', '__pycache__')}/*\n",
    "\n",
    "# Redraw diagrams\n",
    "diagrams.draw_all()"
   ]
  },
  {
   "cell_type": "markdown",
   "metadata": {
    "slideshow": {
     "slide_type": "slide"
    }
   },
   "source": [
    " <center>\n",
    "  <h1>Unspeakably Evil Hacks in Service of Marginally-Improved Syntax</h1><br><br>\n",
    "  <h2>Compile-Time Metaprogramming in Python</h2><br><br>\n",
    "  <h3><a href=\"https://github.com/ssanderson/pybay2016\">https://github.com/ssanderson/pybay2016</a>\n",
    "  </h3><br>\n",
    "  Twitter: @scottbsanderson\n",
    "</center>"
   ]
  },
  {
   "cell_type": "markdown",
   "metadata": {
    "slideshow": {
     "slide_type": "slide"
    }
   },
   "source": [
    "# About Me:\n",
    "\n",
    "<img src=\"images/me.jpg\" alt=\"Drawing\" style=\"width: 300px;\"/>\n",
    "\n",
    "- API Design Lead at [Quantopian](www.quantopian.com)\n",
    "- Background in Mathematics and Philosophy\n",
    "- **Twitter:** [@scottbsanderson](https://twitter.com/scottbsanderson)\n",
    "- **GitHub:** [ssanderson](github.com/ssanderson)"
   ]
  },
  {
   "cell_type": "markdown",
   "metadata": {
    "slideshow": {
     "slide_type": "slide"
    }
   },
   "source": [
    "# Outline\n",
    "\n",
    "- \"Standard\" Metaprogramming Techniques\n",
    "- Python Program Representations\n",
    "- Custom File Encodings\n",
    "- Import Hooks\n",
    "- Bytecode Rewriting\n",
    "- Conclusions"
   ]
  },
  {
   "cell_type": "markdown",
   "metadata": {
    "slideshow": {
     "slide_type": "fragment"
    }
   },
   "source": [
    "- Spicy Memes!"
   ]
  },
  {
   "cell_type": "markdown",
   "metadata": {
    "slideshow": {
     "slide_type": "slide"
    }
   },
   "source": [
    "# Metaprogramming"
   ]
  },
  {
   "cell_type": "markdown",
   "metadata": {
    "slideshow": {
     "slide_type": "fragment"
    }
   },
   "source": [
    "> Metaprogramming is the writing of computer programs with the ability to treat programs as their data. It means that a program could be designed to read, generate, analyse or transform other programs, and even modify itself while running. - Wikipedia"
   ]
  },
  {
   "cell_type": "markdown",
   "metadata": {
    "slideshow": {
     "slide_type": "slide"
    }
   },
   "source": [
    "<img alt=\"Xzibit loves metaprogramming!\" src=\"images/yo-dawg.jpg\" style=\"width: 1000px\"/>"
   ]
  },
  {
   "cell_type": "markdown",
   "metadata": {
    "slideshow": {
     "slide_type": "slide"
    }
   },
   "source": [
    "# Decorators"
   ]
  },
  {
   "cell_type": "code",
   "execution_count": 2,
   "metadata": {
    "collapsed": false,
    "slideshow": {
     "slide_type": "subslide"
    }
   },
   "outputs": [
    {
     "name": "stdout",
     "output_type": "stream",
     "text": [
      "add called with args: (1, 2)\n",
      "save called with args: ('Important Data',)\n"
     ]
    }
   ],
   "source": [
    "def noisy_add(a, b):\n",
    "    print(\"add called with args: {args}\".format(args=(a, b)))\n",
    "\n",
    "    return a + b\n",
    "\n",
    "...\n",
    "\n",
    "def noisy_save(s):\n",
    "    print(\"save called with args: {args}\".format(args=(s,)))\n",
    "    \n",
    "    # /dev/null is web scale\n",
    "    with open('/dev/null', 'w') as f:\n",
    "        f.write(s)\n",
    "\n",
    "noisy_add(1, 2)\n",
    "noisy_save('Important Data')"
   ]
  },
  {
   "cell_type": "code",
   "execution_count": 3,
   "metadata": {
    "collapsed": true,
    "slideshow": {
     "slide_type": "subslide"
    }
   },
   "outputs": [],
   "source": [
    "from functools import wraps\n",
    "\n",
    "def noisy(f):\n",
    "    \"A decorator that prints arguments to a function before calling it.\"\n",
    "    name = f.__name__\n",
    "    \n",
    "    @wraps(f)\n",
    "    def print_then_call_f(*args):\n",
    "        print(\"{f} called with args: {args}\".format(f=name, args=args))\n",
    "        return f(*args)\n",
    "    \n",
    "    return print_then_call_f"
   ]
  },
  {
   "cell_type": "code",
   "execution_count": 4,
   "metadata": {
    "collapsed": false,
    "slideshow": {
     "slide_type": "subslide"
    }
   },
   "outputs": [
    {
     "name": "stdout",
     "output_type": "stream",
     "text": [
      "add called with args: (1, 2)\n",
      "save called with args: ('Important Data',)\n"
     ]
    }
   ],
   "source": [
    "@noisy\n",
    "def add(a, b):\n",
    "    return a + b \n",
    "\n",
    "@noisy\n",
    "def save(s):\n",
    "    # Still web scale\n",
    "    with open('/dev/null', 'w') as f:\n",
    "        f.write(s)\n",
    "\n",
    "add(1, 2)\n",
    "save(\"Important Data\")"
   ]
  },
  {
   "cell_type": "markdown",
   "metadata": {
    "collapsed": true,
    "slideshow": {
     "slide_type": "slide"
    }
   },
   "source": [
    "# Metaclasses"
   ]
  },
  {
   "cell_type": "code",
   "execution_count": 5,
   "metadata": {
    "collapsed": false,
    "slideshow": {
     "slide_type": "slide"
    }
   },
   "outputs": [
    {
     "name": "stdout",
     "output_type": "stream",
     "text": [
      "Magnitude: 2.236068\n",
      "Doubled Magnitude: 4.472136\n"
     ]
    }
   ],
   "source": [
    "class Vector:\n",
    "    \"A 2-Dimensional vector.\"\n",
    "\n",
    "    def __init__(self, x, y):\n",
    "        self.x = x\n",
    "        self.y = y\n",
    "        \n",
    "    def magnitude(self):\n",
    "        return math.sqrt(self.x ** 2 + self.y ** 2)\n",
    "    \n",
    "    def doubled(self):\n",
    "        return type(self)(self.x * 2, self.y * 2)\n",
    "    \n",
    "v0 = Vector(1, 2) \n",
    "print(\"Magnitude: %f\" % v0.magnitude())\n",
    "print(\"Doubled Magnitude: %f\" % v0.doubled().magnitude())"
   ]
  },
  {
   "cell_type": "code",
   "execution_count": 6,
   "metadata": {
    "collapsed": false,
    "slideshow": {
     "slide_type": "subslide"
    }
   },
   "outputs": [
    {
     "name": "stdout",
     "output_type": "stream",
     "text": [
      "Magnitude: 2.236068\n",
      "Doubled Magnitude: 4.472136\n"
     ]
    }
   ],
   "source": [
    "class PropertyVector:\n",
    "    \"A 2-Dimensional vector, now with 100% fewer parentheses!\"\n",
    "    def __init__(self, x, y):\n",
    "        self.x = x\n",
    "        self.y = y\n",
    "\n",
    "    @property\n",
    "    def magnitude(self):\n",
    "        return math.sqrt(self.x ** 2 + self.y ** 2)\n",
    "    \n",
    "    @property\n",
    "    def doubled(self):\n",
    "        return type(self)(self.x * 2, self.y * 2)\n",
    "    \n",
    "v1 = PropertyVector(1, 2)\n",
    "print(\"Magnitude: %f\" % v1.magnitude)\n",
    "print(\"Doubled Magnitude: %f\" % v1.doubled.magnitude)"
   ]
  },
  {
   "cell_type": "code",
   "execution_count": 7,
   "metadata": {
    "collapsed": false,
    "slideshow": {
     "slide_type": "subslide"
    }
   },
   "outputs": [],
   "source": [
    "# Our metaclass will automatically convert anything with this signature\n",
    "# into a property.\n",
    "property_signature = inspect.FullArgSpec(\n",
    "    args=['self'], varargs=None, varkw=None, defaults=None, \n",
    "    kwonlyargs=[], kwonlydefaults=None, annotations={},\n",
    ")\n",
    "\n",
    "class AutoPropertyMeta(type):\n",
    "    \"\"\"Metaclass that wraps no-argument methods in properties.\"\"\"\n",
    "    \n",
    "    def __new__(mcls, name, bases, clsdict):\n",
    "        for name, class_attr in clsdict.items():\n",
    "            try:\n",
    "                signature = inspect.getfullargspec(class_attr)\n",
    "            except TypeError:\n",
    "                continue\n",
    "\n",
    "            if signature == property_signature:\n",
    "                print(\"Wrapping %s in a property.\" % name)\n",
    "                clsdict[name] = property(class_attr)\n",
    "\n",
    "        return super().__new__(mcls, name, bases, clsdict)"
   ]
  },
  {
   "cell_type": "code",
   "execution_count": 8,
   "metadata": {
    "collapsed": false,
    "slideshow": {
     "slide_type": "subslide"
    }
   },
   "outputs": [
    {
     "name": "stdout",
     "output_type": "stream",
     "text": [
      "Wrapping magnitude in a property.\n",
      "Wrapping doubled in a property.\n",
      "\n",
      "Magnitude: 2.236068\n",
      "Doubled Magnitude: 4.472136\n"
     ]
    }
   ],
   "source": [
    "class AutoPropertyVector(metaclass=AutoPropertyMeta):\n",
    "    \"A 2-Dimensional vector, now with 100% less @property calls!\"\n",
    "    def __init__(self, x, y):\n",
    "        self.x = x\n",
    "        self.y = y\n",
    "        \n",
    "    def magnitude(self):\n",
    "        return math.sqrt(self.x ** 2 + self.y ** 2)\n",
    "    \n",
    "    def doubled(self):\n",
    "        return type(self)(self.x * 2, self.y * 2)\n",
    "\n",
    "v2 = AutoPropertyVector(1, 2)\n",
    "print(\"\")\n",
    "print(\"Magnitude: %f\" % v2.magnitude)\n",
    "print(\"Doubled Magnitude: %f\" % v2.doubled.magnitude)"
   ]
  },
  {
   "cell_type": "markdown",
   "metadata": {
    "slideshow": {
     "slide_type": "slide"
    }
   },
   "source": [
    "# `exec`\n",
    "\n",
    "\"The Swiss Army Knife of Metaprogramming\""
   ]
  },
  {
   "cell_type": "code",
   "execution_count": 9,
   "metadata": {
    "collapsed": false,
    "slideshow": {
     "slide_type": "slide"
    }
   },
   "outputs": [
    {
     "name": "stdout",
     "output_type": "stream",
     "text": [
      "p.x is 1\n",
      "p[1] is 2\n"
     ]
    }
   ],
   "source": [
    "from pybay2016.simple_namedtuple import simple_namedtuple\n",
    "\n",
    "Point = simple_namedtuple('Point', ['x', 'y', 'z'])\n",
    "p = Point(x=1, y=2, z=3)\n",
    "\n",
    "print(\"p.x is {p.x}\".format(p=p))\n",
    "print(\"p[1] is {p[1]}\".format(p=p))"
   ]
  },
  {
   "cell_type": "markdown",
   "metadata": {
    "slideshow": {
     "slide_type": "slide"
    }
   },
   "source": [
    "# Review\n",
    "\n",
    "- Decorators allow us to naturally express modifications to existing classes and functions.\n",
    "- Metaclasses allow us to customize class creation.\n",
    "- `exec` allows us to use string-manipulation tools for program manipulation."
   ]
  },
  {
   "cell_type": "markdown",
   "metadata": {
    "slideshow": {
     "slide_type": "slide"
    }
   },
   "source": [
    "![Metaprogramming is the best](images/unicorn.jpg)"
   ]
  },
  {
   "cell_type": "markdown",
   "metadata": {
    "slideshow": {
     "slide_type": "subslide"
    }
   },
   "source": [
    "# That's all great but..."
   ]
  },
  {
   "cell_type": "markdown",
   "metadata": {
    "slideshow": {
     "slide_type": "fragment"
    }
   },
   "source": [
    "- Abstractions often incur runtime overhead."
   ]
  },
  {
   "cell_type": "markdown",
   "metadata": {
    "slideshow": {
     "slide_type": "fragment"
    }
   },
   "source": [
    "- Certain operations can't be overloaded (e.g. ``is`` and ``not``, or catching exceptions)."
   ]
  },
  {
   "cell_type": "markdown",
   "metadata": {
    "collapsed": true,
    "slideshow": {
     "slide_type": "fragment"
    }
   },
   "source": [
    "- No support for syntactic extensions.\n",
    "  - Can't add new syntax.\n",
    "  - Often can't repurpose existing syntax."
   ]
  },
  {
   "cell_type": "markdown",
   "metadata": {
    "slideshow": {
     "slide_type": "subslide"
    }
   },
   "source": [
    "- Doesn't quite feel *evil* enough..."
   ]
  },
  {
   "cell_type": "markdown",
   "metadata": {
    "slideshow": {
     "slide_type": "slide"
    }
   },
   "source": [
    "<img alt=\"We have to go deeper!\" src=\"images/leo.jpg\" style=\"width: 1000px\"/>"
   ]
  },
  {
   "cell_type": "markdown",
   "metadata": {
    "slideshow": {
     "slide_type": "slide"
    }
   },
   "source": [
    "# Let's look at a complicated function..."
   ]
  },
  {
   "cell_type": "code",
   "execution_count": 10,
   "metadata": {
    "collapsed": false,
    "scrolled": true,
    "slideshow": {
     "slide_type": "subslide"
    }
   },
   "outputs": [
    {
     "data": {
      "text/plain": [
       "3"
      ]
     },
     "execution_count": 10,
     "metadata": {},
     "output_type": "execute_result"
    }
   ],
   "source": [
    "def addtwo(a):\n",
    "    return a + 2\n",
    "\n",
    "addtwo(1)"
   ]
  },
  {
   "cell_type": "markdown",
   "metadata": {
    "slideshow": {
     "slide_type": "slide"
    }
   },
   "source": [
    "# What Happened When I Hit Enter?"
   ]
  },
  {
   "cell_type": "markdown",
   "metadata": {
    "slideshow": {
     "slide_type": "subslide"
    }
   },
   "source": [
    "<img src=\"images/compiler.svg\" width=\"3000\"/>"
   ]
  },
  {
   "cell_type": "code",
   "execution_count": 11,
   "metadata": {
    "collapsed": false,
    "slideshow": {
     "slide_type": "slide"
    }
   },
   "outputs": [
    {
     "data": {
      "text/plain": [
       "[100, 101, 102, 32, 97, 100, 100, 116, 119, 111]"
      ]
     },
     "execution_count": 11,
     "metadata": {},
     "output_type": "execute_result"
    }
   ],
   "source": [
    "raw_source = b\"\"\"\\\n",
    "def addtwo(a):\n",
    "    return a + 2\n",
    "    \n",
    "addtwo(1)\n",
    "\"\"\"\n",
    "\n",
    "raw_source\n",
    "list(raw_source)[:10]"
   ]
  },
  {
   "cell_type": "code",
   "execution_count": 12,
   "metadata": {
    "collapsed": false,
    "slideshow": {
     "slide_type": "subslide"
    }
   },
   "outputs": [
    {
     "name": "stdout",
     "output_type": "stream",
     "text": [
      "def addtwo(a):\n",
      "    return a + 2\n",
      "    \n",
      "addtwo(1)\n",
      "\n"
     ]
    }
   ],
   "source": [
    "# Bytes to Text\n",
    "import codecs\n",
    "\n",
    "decoded_source = codecs.getdecoder('utf-8')(raw_source)[0]\n",
    "\n",
    "print(decoded_source)"
   ]
  },
  {
   "cell_type": "code",
   "execution_count": 13,
   "metadata": {
    "collapsed": false,
    "slideshow": {
     "slide_type": "subslide"
    }
   },
   "outputs": [
    {
     "name": "stdout",
     "output_type": "stream",
     "text": [
      "Expr(\n",
      "  value=Call(\n",
      "    func=Name(id='addtwo', ctx=Load()),\n",
      "    args=[\n",
      "      Num(1),\n",
      "    ],\n",
      "    keywords=[],\n",
      "    starargs=None,\n",
      "    kwargs=None,\n",
      "  ),\n",
      ")\n"
     ]
    }
   ],
   "source": [
    "# Text to AST\n",
    "import ast\n",
    "syntax_tree = ast.parse(decoded_source)\n",
    "\n",
    "body = syntax_tree.body\n",
    "show_ast(body[1])"
   ]
  },
  {
   "cell_type": "code",
   "execution_count": 14,
   "metadata": {
    "collapsed": false,
    "slideshow": {
     "slide_type": "subslide"
    }
   },
   "outputs": [
    {
     "name": "stdout",
     "output_type": "stream",
     "text": [
      "<module>\n",
      "--------\n",
      "  1           0 LOAD_CONST               0 (<code object addtwo at 0x7fe060092300, file \"pybay2016\", line 1>)\n",
      "              3 LOAD_CONST               1 ('addtwo')\n",
      "              6 MAKE_FUNCTION            0\n",
      "              9 STORE_NAME               0 (addtwo)\n",
      "\n",
      "  4          12 LOAD_NAME                0 (addtwo)\n",
      "             15 LOAD_CONST               2 (1)\n",
      "             18 CALL_FUNCTION            1 (1 positional, 0 keyword pair)\n",
      "             21 POP_TOP\n",
      "             22 LOAD_CONST               3 (None)\n",
      "             25 RETURN_VALUE\n",
      "\n",
      "<module>.addtwo\n",
      "---------------\n",
      "  2           0 LOAD_FAST                0 (a)\n",
      "              3 LOAD_CONST               1 (2)\n",
      "              6 BINARY_ADD\n",
      "              7 RETURN_VALUE\n",
      "\n"
     ]
    }
   ],
   "source": [
    "# AST -> Bytecode\n",
    "code = compile(syntax_tree, 'pybay2016', 'exec')\n",
    "show_disassembly(code)"
   ]
  },
  {
   "cell_type": "markdown",
   "metadata": {
    "slideshow": {
     "slide_type": "slide"
    }
   },
   "source": [
    "\n",
    "<img src=\"images/scheming.jpg\" width=\"1000\"/>"
   ]
  },
  {
   "cell_type": "markdown",
   "metadata": {
    "slideshow": {
     "slide_type": "subslide"
    }
   },
   "source": [
    "# What can I muck with?\n",
    "<img src=\"images/compiler.svg\" width=\"3000\"/>"
   ]
  },
  {
   "cell_type": "markdown",
   "metadata": {
    "slideshow": {
     "slide_type": "subslide"
    }
   },
   "source": [
    "# Custom Source Encodings\n",
    "\n",
    "<img src=\"images/decoder.svg\" width=\"2500\"/>"
   ]
  },
  {
   "cell_type": "code",
   "execution_count": 15,
   "metadata": {
    "collapsed": false,
    "slideshow": {
     "slide_type": "slide"
    }
   },
   "outputs": [
    {
     "name": "stdout",
     "output_type": "stream",
     "text": [
      "# encoding: pybay2016-rot13\r\n",
      "\r\n",
      "qrs uryyb():\r\n",
      "    cevag(\"Uryyb Ebgngrq Jbeyq!\")\r\n"
     ]
    }
   ],
   "source": [
    "!cat ../pybay2016/rot13.py"
   ]
  },
  {
   "cell_type": "markdown",
   "metadata": {
    "slideshow": {
     "slide_type": "subslide"
    }
   },
   "source": [
    "### Python doesn't know about our encoding..."
   ]
  },
  {
   "cell_type": "code",
   "execution_count": 16,
   "metadata": {
    "collapsed": false,
    "slideshow": {
     "slide_type": "-"
    }
   },
   "outputs": [
    {
     "ename": "SyntaxError",
     "evalue": "unknown encoding for '/home/ssanderson/projects/pybay2016/pybay2016/rot13.py': pybay2016-rot13 (<string>)",
     "output_type": "error",
     "traceback": [
      "\u001b[0;36m  File \u001b[0;32m\"<string>\"\u001b[0;36m, line \u001b[0;32munknown\u001b[0m\n\u001b[0;31mSyntaxError\u001b[0m\u001b[0;31m:\u001b[0m unknown encoding for '/home/ssanderson/projects/pybay2016/pybay2016/rot13.py': pybay2016-rot13\n"
     ]
    }
   ],
   "source": [
    "from pybay2016.rot13 import hello \n",
    "\n",
    "hello()"
   ]
  },
  {
   "cell_type": "markdown",
   "metadata": {
    "slideshow": {
     "slide_type": "subslide"
    }
   },
   "source": [
    "### ...until we register with the `codecs` module."
   ]
  },
  {
   "cell_type": "code",
   "execution_count": 17,
   "metadata": {
    "collapsed": false,
    "slideshow": {
     "slide_type": "-"
    }
   },
   "outputs": [],
   "source": [
    "from codecs import register\n",
    "from pybay2016.encoding import search_function\n",
    "\n",
    "register(search_function)"
   ]
  },
  {
   "cell_type": "code",
   "execution_count": 18,
   "metadata": {
    "collapsed": false,
    "slideshow": {
     "slide_type": "subslide"
    }
   },
   "outputs": [
    {
     "name": "stdout",
     "output_type": "stream",
     "text": [
      "Hello Rotated World!\n"
     ]
    }
   ],
   "source": [
    "from pybay2016.rot13 import hello\n",
    "\n",
    "hello()"
   ]
  },
  {
   "cell_type": "markdown",
   "metadata": {
    "slideshow": {
     "slide_type": "slide"
    }
   },
   "source": [
    "# What is this actually useful for?"
   ]
  },
  {
   "cell_type": "code",
   "execution_count": 19,
   "metadata": {
    "collapsed": false,
    "slideshow": {
     "slide_type": "fragment"
    }
   },
   "outputs": [
    {
     "name": "stdout",
     "output_type": "stream",
     "text": [
      "# encoding: pyxl\r\n",
      "\r\n",
      "import pyxl.html as html\r\n",
      "\r\n",
      "\r\n",
      "def hello_html():\r\n",
      "    x = \"Hello World!\"\r\n",
      "    return <html>\r\n",
      "             <body>{x}</body>\r\n",
      "           </html>\r\n"
     ]
    }
   ],
   "source": [
    "!cat ../pybay2016/pyxl.py"
   ]
  },
  {
   "cell_type": "code",
   "execution_count": 20,
   "metadata": {
    "collapsed": false,
    "slideshow": {
     "slide_type": "subslide"
    }
   },
   "outputs": [
    {
     "data": {
      "text/plain": [
       "<pyxl.html.x_html at 0x7fe068ec6da0>"
      ]
     },
     "execution_count": 20,
     "metadata": {},
     "output_type": "execute_result"
    }
   ],
   "source": [
    "import pyxl.codec.register # Activates the pyxl encoding\n",
    "\n",
    "from pybay2016.pyxl import hello_html\n",
    "\n",
    "hello_html()"
   ]
  },
  {
   "cell_type": "code",
   "execution_count": 21,
   "metadata": {
    "collapsed": false,
    "slideshow": {
     "slide_type": "fragment"
    }
   },
   "outputs": [
    {
     "data": {
      "text/plain": [
       "'<html><body>Hello World!</body></html>'"
      ]
     },
     "execution_count": 21,
     "metadata": {},
     "output_type": "execute_result"
    }
   ],
   "source": [
    "str(hello_html())"
   ]
  },
  {
   "cell_type": "markdown",
   "metadata": {
    "slideshow": {
     "slide_type": "slide"
    }
   },
   "source": [
    "# Custom Encoding Summary\n",
    "\n",
    "- Encodings registered globally with the `codecs` module.\n",
    "- Opt-in on a **per-file** basis.\n",
    "- Only one encoding per file.\n",
    "- Files must end in `.py`.\n",
    "- Operates semantically on bytes <-> text layer."
   ]
  },
  {
   "cell_type": "markdown",
   "metadata": {
    "slideshow": {
     "slide_type": "slide"
    }
   },
   "source": [
    "# Import Hooks\n",
    "\n",
    "<img src=\"images/importhook.svg\" width=\"1000\"/>"
   ]
  },
  {
   "cell_type": "markdown",
   "metadata": {
    "slideshow": {
     "slide_type": "subslide"
    }
   },
   "source": [
    "## Hy - Lisp Embedded in Python"
   ]
  },
  {
   "cell_type": "code",
   "execution_count": 22,
   "metadata": {
    "collapsed": false,
    "scrolled": true,
    "slideshow": {
     "slide_type": "slide"
    }
   },
   "outputs": [
    {
     "name": "stdout",
     "output_type": "stream",
     "text": [
      "(defn hyfact [n]\r\n",
      "  \"Lisp in Python!\"\r\n",
      "  (defn fact-impl [n acc]\r\n",
      "    (if (<= n 1)\r\n",
      "        acc\r\n",
      "      (fact-impl (- n 1) (* acc n))))\r\n",
      "  (fact-impl n 1))\r\n"
     ]
    }
   ],
   "source": [
    "! cat ../pybay2016/hy_example.hy"
   ]
  },
  {
   "cell_type": "code",
   "execution_count": 23,
   "metadata": {
    "collapsed": false,
    "slideshow": {
     "slide_type": "subslide"
    }
   },
   "outputs": [
    {
     "ename": "ImportError",
     "evalue": "No module named 'pybay2016.hy_example'",
     "output_type": "error",
     "traceback": [
      "\u001b[0;31m---------------------------------------------------------------------------\u001b[0m",
      "\u001b[0;31mImportError\u001b[0m                               Traceback (most recent call last)",
      "\u001b[0;32m<ipython-input-23-948adc87f421>\u001b[0m in \u001b[0;36m<module>\u001b[0;34m()\u001b[0m\n\u001b[1;32m      1\u001b[0m \u001b[0;31m# Python doesn't know about .hy files by default.\u001b[0m\u001b[0;34m\u001b[0m\u001b[0;34m\u001b[0m\u001b[0m\n\u001b[0;32m----> 2\u001b[0;31m \u001b[0;32mfrom\u001b[0m \u001b[0mpybay2016\u001b[0m\u001b[0;34m.\u001b[0m\u001b[0mhy_example\u001b[0m \u001b[0;32mimport\u001b[0m \u001b[0mhyfact\u001b[0m\u001b[0;34m\u001b[0m\u001b[0m\n\u001b[0m\u001b[1;32m      3\u001b[0m \u001b[0;34m\u001b[0m\u001b[0m\n\u001b[1;32m      4\u001b[0m \u001b[0mhyfact\u001b[0m\u001b[0;34m(\u001b[0m\u001b[0;36m5\u001b[0m\u001b[0;34m)\u001b[0m\u001b[0;34m\u001b[0m\u001b[0m\n",
      "\u001b[0;31mImportError\u001b[0m: No module named 'pybay2016.hy_example'"
     ]
    }
   ],
   "source": [
    "# Python doesn't know about .hy files by default.\n",
    "from pybay2016.hy_example import hyfact\n",
    "\n",
    "hyfact(5)"
   ]
  },
  {
   "cell_type": "code",
   "execution_count": 24,
   "metadata": {
    "collapsed": false,
    "slideshow": {
     "slide_type": "subslide"
    }
   },
   "outputs": [
    {
     "name": "stdout",
     "output_type": "stream",
     "text": [
      "Before:\n",
      "<class '_frozen_importlib.BuiltinImporter'>\n",
      "After:\n",
      "<hy.importer.MetaImporter object at 0x7fe06011ccf8>\n"
     ]
    }
   ],
   "source": [
    "# But importing hy registers a MetaImporter that knows about .hy files.\n",
    "print(\"Before:\")\n",
    "pprint.pprint(sys.meta_path[0])\n",
    "\n",
    "import hy\n",
    "\n",
    "print(\"After:\")\n",
    "pprint.pprint(sys.meta_path[0])"
   ]
  },
  {
   "cell_type": "code",
   "execution_count": 25,
   "metadata": {
    "collapsed": false,
    "slideshow": {
     "slide_type": "subslide"
    }
   },
   "outputs": [
    {
     "data": {
      "text/plain": [
       "120"
      ]
     },
     "execution_count": 25,
     "metadata": {},
     "output_type": "execute_result"
    }
   ],
   "source": [
    "from pybay2016.hy_example import hyfact\n",
    "\n",
    "hyfact(5)"
   ]
  },
  {
   "cell_type": "markdown",
   "metadata": {
    "slideshow": {
     "slide_type": "slide"
    }
   },
   "source": [
    "# Cython - Pseudo-Python Compiled to C"
   ]
  },
  {
   "cell_type": "code",
   "execution_count": 26,
   "metadata": {
    "collapsed": false,
    "slideshow": {
     "slide_type": "subslide"
    }
   },
   "outputs": [
    {
     "name": "stdout",
     "output_type": "stream",
     "text": [
      "cpdef cyfact(int n):\r\n",
      "    cdef int acc = 1\r\n",
      "    cdef int i\r\n",
      "    for i in range(1, n + 1):\r\n",
      "        acc *= i\r\n",
      "    return acc\r\n"
     ]
    }
   ],
   "source": [
    "!cat ../pybay2016/cython_example.pyx"
   ]
  },
  {
   "cell_type": "code",
   "execution_count": 27,
   "metadata": {
    "collapsed": false,
    "slideshow": {
     "slide_type": "subslide"
    }
   },
   "outputs": [
    {
     "name": "stdout",
     "output_type": "stream",
     "text": [
      "cyfact is a <class 'builtin_function_or_method'>\n"
     ]
    },
    {
     "data": {
      "text/plain": [
       "120"
      ]
     },
     "execution_count": 27,
     "metadata": {},
     "output_type": "execute_result"
    }
   ],
   "source": [
    "import pyximport\n",
    "pyximport.install()  # Installs a Cython meta-importer.\n",
    "\n",
    "from pybay2016.cython_example import cyfact\n",
    "\n",
    "print(\"cyfact is a %s\" % type(cyfact))\n",
    "cyfact(5)"
   ]
  },
  {
   "cell_type": "code",
   "execution_count": 28,
   "metadata": {
    "collapsed": false,
    "slideshow": {
     "slide_type": "subslide"
    }
   },
   "outputs": [
    {
     "name": "stdout",
     "output_type": "stream",
     "text": [
      "Python Factorial:\n",
      "100000 loops, best of 3: 3.23 µs per loop\n",
      "\n",
      "Cython Factorial:\n",
      "10000000 loops, best of 3: 52.1 ns per loop\n"
     ]
    }
   ],
   "source": [
    "print(\"Python Factorial:\")\n",
    "%timeit hyfact(25)\n",
    "\n",
    "print(\"\\nCython Factorial:\")\n",
    "%timeit cyfact(25)"
   ]
  },
  {
   "cell_type": "markdown",
   "metadata": {
    "slideshow": {
     "slide_type": "slide"
    }
   },
   "source": [
    "# Import Hook Summary\n",
    "\n",
    "- Registered Globally on `sys.meta_path`.\n",
    "- Loader gets to choose how a file is imported.\n",
    "- No restrictions on file structure.\n",
    "  - Doesn't even have correspond to a filesystem entry..."
   ]
  },
  {
   "cell_type": "markdown",
   "metadata": {
    "slideshow": {
     "slide_type": "slide"
    }
   },
   "source": [
    "# Problem:\n",
    "\n",
    "Both import hooks and custom encodings rely on some **external** piece of code having been run before a hooked module can be executed.\n",
    "\n",
    "This makes it hard to ensure that transformations are used correctly/reliably by users."
   ]
  },
  {
   "cell_type": "markdown",
   "metadata": {
    "slideshow": {
     "slide_type": "slide"
    }
   },
   "source": [
    "# What if we just rewrite the code we already have...?"
   ]
  },
  {
   "cell_type": "markdown",
   "metadata": {
    "slideshow": {
     "slide_type": "slide"
    }
   },
   "source": [
    "# Bytecode Manipulation\n",
    "\n",
    "<img src=\"images/bytecode.svg\" width=\"750\"/>"
   ]
  },
  {
   "cell_type": "code",
   "execution_count": 29,
   "metadata": {
    "collapsed": false,
    "slideshow": {
     "slide_type": "subslide"
    }
   },
   "outputs": [
    {
     "data": {
      "text/plain": [
       "[124, 0, 0, 100, 1, 0, 23, 83]"
      ]
     },
     "execution_count": 29,
     "metadata": {},
     "output_type": "execute_result"
    }
   ],
   "source": [
    "addcode = addtwo.__code__\n",
    "list(addcode.co_code)"
   ]
  },
  {
   "cell_type": "code",
   "execution_count": 30,
   "metadata": {
    "collapsed": false,
    "slideshow": {
     "slide_type": "subslide"
    }
   },
   "outputs": [
    {
     "data": {
      "text/plain": [
       "{'co_argcount': 1,\n",
       " 'co_cellvars': (),\n",
       " 'co_code': b'|\\x00\\x00d\\x01\\x00\\x17S',\n",
       " 'co_consts': (None, 2),\n",
       " 'co_filename': '<ipython-input-10-ba723be474f5>',\n",
       " 'co_firstlineno': 1,\n",
       " 'co_flags': 67,\n",
       " 'co_freevars': (),\n",
       " 'co_kwonlyargcount': 0,\n",
       " 'co_lnotab': b'\\x00\\x01',\n",
       " 'co_name': 'addtwo',\n",
       " 'co_names': (),\n",
       " 'co_nlocals': 1,\n",
       " 'co_stacksize': 2,\n",
       " 'co_varnames': ('a',)}"
      ]
     },
     "execution_count": 30,
     "metadata": {},
     "output_type": "execute_result"
    }
   ],
   "source": [
    "from pybay2016.bytecode import code_attrs\n",
    "\n",
    "code_attrs(addcode)"
   ]
  },
  {
   "cell_type": "code",
   "execution_count": 31,
   "metadata": {
    "collapsed": false,
    "slideshow": {
     "slide_type": "subslide"
    }
   },
   "outputs": [
    {
     "name": "stdout",
     "output_type": "stream",
     "text": [
      "Raw Bytes: [124, 0, 0, 100, 1, 0, 23, 83]\n",
      "\n",
      "Disassembly:\n",
      "\n",
      "  2           0 LOAD_FAST                0 (a)\n",
      "              3 LOAD_CONST               1 (2)\n",
      "              6 BINARY_ADD\n",
      "              7 RETURN_VALUE\n"
     ]
    }
   ],
   "source": [
    "import dis\n",
    "\n",
    "print(\"Raw Bytes: %s\" % list(addcode.co_code))\n",
    "print(\"\\nDisassembly:\\n\")\n",
    "dis.dis(addcode)"
   ]
  },
  {
   "cell_type": "markdown",
   "metadata": {
    "slideshow": {
     "slide_type": "subslide"
    }
   },
   "source": [
    "### Addition is so 2015..."
   ]
  },
  {
   "cell_type": "code",
   "execution_count": 32,
   "metadata": {
    "collapsed": false,
    "slideshow": {
     "slide_type": "slide"
    }
   },
   "outputs": [
    {
     "name": "stdout",
     "output_type": "stream",
     "text": [
      "Old Disassembly:\n",
      "          0 LOAD_FAST                0 (0)\n",
      "          3 LOAD_CONST               1 (1)\n",
      "          6 BINARY_ADD\n",
      "          7 RETURN_VALUE\n",
      "\n",
      "New Disassembly:\n",
      "          0 LOAD_FAST                0 (0)\n",
      "          3 LOAD_CONST               1 (1)\n",
      "          6 BINARY_MULTIPLY\n",
      "          7 RETURN_VALUE\n"
     ]
    }
   ],
   "source": [
    "def replace_all(l, old, new):\n",
    "    \"Replace all instances of `old` in `l` with `new`\"\n",
    "    out = []\n",
    "    for elem in l:\n",
    "        if elem == old: out.append(new)\n",
    "        else: out.append(elem)\n",
    "    return out\n",
    "\n",
    "addbytes = addcode.co_code\n",
    "mulbytes = bytes(replace_all(list(addbytes), 23, 20))\n",
    " \n",
    "print(\"Old Disassembly:\"); dis.dis(addbytes)\n",
    "print(\"\\nNew Disassembly:\"); dis.dis(mulbytes)"
   ]
  },
  {
   "cell_type": "markdown",
   "metadata": {
    "slideshow": {
     "slide_type": "subslide"
    }
   },
   "source": [
    "### Just overwriting the code won't work..."
   ]
  },
  {
   "cell_type": "code",
   "execution_count": 33,
   "metadata": {
    "collapsed": false,
    "slideshow": {
     "slide_type": "-"
    }
   },
   "outputs": [
    {
     "ename": "AttributeError",
     "evalue": "readonly attribute",
     "output_type": "error",
     "traceback": [
      "\u001b[0;31m---------------------------------------------------------------------------\u001b[0m",
      "\u001b[0;31mAttributeError\u001b[0m                            Traceback (most recent call last)",
      "\u001b[0;32m<ipython-input-33-41941fd77925>\u001b[0m in \u001b[0;36m<module>\u001b[0;34m()\u001b[0m\n\u001b[0;32m----> 1\u001b[0;31m \u001b[0madd\u001b[0m\u001b[0;34m.\u001b[0m\u001b[0m__code__\u001b[0m\u001b[0;34m.\u001b[0m\u001b[0mco_code\u001b[0m \u001b[0;34m=\u001b[0m \u001b[0mmulbytes\u001b[0m\u001b[0;34m\u001b[0m\u001b[0m\n\u001b[0m",
      "\u001b[0;31mAttributeError\u001b[0m: readonly attribute"
     ]
    }
   ],
   "source": [
    "add.__code__.co_code = mulbytes"
   ]
  },
  {
   "cell_type": "markdown",
   "metadata": {
    "slideshow": {
     "slide_type": "subslide"
    }
   },
   "source": [
    "### ...but copying everything else will!"
   ]
  },
  {
   "cell_type": "code",
   "execution_count": 34,
   "metadata": {
    "collapsed": false,
    "slideshow": {
     "slide_type": "-"
    }
   },
   "outputs": [
    {
     "data": {
      "text/plain": [
       "<code object multwo at 0x7fe060092db0, file \"<ipython-input-10-ba723be474f5>\", line 1>"
      ]
     },
     "execution_count": 34,
     "metadata": {},
     "output_type": "execute_result"
    }
   ],
   "source": [
    "from types import CodeType\n",
    "\n",
    "mulcode = CodeType(\n",
    "    addcode.co_argcount,\n",
    "    addcode.co_kwonlyargcount,\n",
    "    addcode.co_nlocals,\n",
    "    addcode.co_stacksize,\n",
    "    addcode.co_flags,\n",
    "    mulbytes,   # Use our new bytecode.\n",
    "    addcode.co_consts,\n",
    "    addcode.co_names,\n",
    "    addcode.co_varnames,\n",
    "    addcode.co_filename,\n",
    "    'multwo',  # Use a new name.\n",
    "    addcode.co_firstlineno,\n",
    "    addcode.co_lnotab,\n",
    "    addcode.co_freevars,\n",
    "    addcode.co_cellvars,\n",
    ")\n",
    "\n",
    "mulcode "
   ]
  },
  {
   "cell_type": "markdown",
   "metadata": {
    "slideshow": {
     "slide_type": "subslide"
    }
   },
   "source": [
    "### We can rebuild a modified function the same way."
   ]
  },
  {
   "cell_type": "code",
   "execution_count": 35,
   "metadata": {
    "collapsed": false,
    "slideshow": {
     "slide_type": "-"
    }
   },
   "outputs": [
    {
     "data": {
      "text/plain": [
       "<function __main__.multwo>"
      ]
     },
     "execution_count": 35,
     "metadata": {},
     "output_type": "execute_result"
    }
   ],
   "source": [
    "from types import FunctionType\n",
    "\n",
    "multwo = FunctionType(\n",
    "    mulcode,   # Use new bytecode.\n",
    "    addtwo.__globals__,\n",
    "    'multwo',  # Use new __name__.\n",
    "    addtwo.__defaults__,\n",
    "    addtwo.__closure__,\n",
    ")\n",
    "multwo"
   ]
  },
  {
   "cell_type": "code",
   "execution_count": 36,
   "metadata": {
    "collapsed": false,
    "slideshow": {
     "slide_type": "subslide"
    }
   },
   "outputs": [
    {
     "data": {
      "text/plain": [
       "10"
      ]
     },
     "execution_count": 36,
     "metadata": {},
     "output_type": "execute_result"
    }
   ],
   "source": [
    "multwo(5)"
   ]
  },
  {
   "cell_type": "markdown",
   "metadata": {
    "slideshow": {
     "slide_type": "slide"
    }
   },
   "source": [
    "<img src=\"images/mindblown.gif\" width=\"2000\"/>"
   ]
  },
  {
   "cell_type": "markdown",
   "metadata": {
    "slideshow": {
     "slide_type": "slide"
    }
   },
   "source": [
    "# Pattern for Bytecode Transformers\n",
    "\n",
    "- Start with an existing function.\n",
    "- Extract its `__code__`.\n",
    "- Apply some transformation.\n",
    "- Contruct new `code` by copying everything not changed.\n",
    "- Construct new function from new code object."
   ]
  },
  {
   "cell_type": "code",
   "execution_count": 37,
   "metadata": {
    "collapsed": false,
    "slideshow": {
     "slide_type": "subslide"
    }
   },
   "outputs": [],
   "source": [
    "from codetransformer import CodeTransformer, pattern\n",
    "from codetransformer.instructions import *\n",
    "\n",
    "class ruby_strings(CodeTransformer):\n",
    "    \n",
    "    @pattern(LOAD_CONST)\n",
    "    def _format_bytes(self, instr):\n",
    "        yield instr\n",
    "        if not isinstance(instr.arg, bytes):\n",
    "            return\n",
    "\n",
    "        # Equivalent to:\n",
    "        # s.decode('utf-8').format(**locals())\n",
    "        yield LOAD_ATTR('decode')\n",
    "        yield LOAD_CONST('utf-8')\n",
    "        yield CALL_FUNCTION(1)\n",
    "        yield LOAD_ATTR('format')\n",
    "        yield LOAD_CONST(locals) \n",
    "        yield CALL_FUNCTION(0)\n",
    "        yield CALL_FUNCTION_KW()"
   ]
  },
  {
   "cell_type": "code",
   "execution_count": 38,
   "metadata": {
    "collapsed": false,
    "slideshow": {
     "slide_type": "subslide"
    }
   },
   "outputs": [
    {
     "data": {
      "text/plain": [
       "\"a is 1, b is 2, c is 'foo'\""
      ]
     },
     "execution_count": 38,
     "metadata": {},
     "output_type": "execute_result"
    }
   ],
   "source": [
    "@ruby_strings()\n",
    "def example(a, b, c):\n",
    "    return b\"a is {a}, b is {b}, c is {c!r}\"\n",
    "\n",
    "example(1, 2, 'foo')"
   ]
  },
  {
   "cell_type": "markdown",
   "metadata": {
    "slideshow": {
     "slide_type": "slide"
    }
   },
   "source": [
    "### More Examples:  Overloaded Exceptions"
   ]
  },
  {
   "cell_type": "code",
   "execution_count": 39,
   "metadata": {
    "collapsed": false,
    "slideshow": {
     "slide_type": "-"
    }
   },
   "outputs": [
    {
     "data": {
      "text/plain": [
       "'bar'"
      ]
     },
     "execution_count": 39,
     "metadata": {},
     "output_type": "execute_result"
    }
   ],
   "source": [
    "from codetransformer.transformers.exc_patterns import \\\n",
    "    pattern_matched_exceptions\n",
    "\n",
    "  \n",
    "@pattern_matched_exceptions()\n",
    "def foo():\n",
    "    try:\n",
    "        raise ValueError('bar')\n",
    "    except ValueError('buzz'):\n",
    "        return 'buzz'\n",
    "    except ValueError('bar'):\n",
    "        return 'bar'\n",
    "    \n",
    "foo()"
   ]
  },
  {
   "cell_type": "markdown",
   "metadata": {
    "slideshow": {
     "slide_type": "subslide"
    }
   },
   "source": [
    "### More Examples : Overloaded Literals"
   ]
  },
  {
   "cell_type": "code",
   "execution_count": 40,
   "metadata": {
    "collapsed": false,
    "slideshow": {
     "slide_type": "-"
    }
   },
   "outputs": [
    {
     "data": {
      "text/plain": [
       "OrderedDict([('a', 1), ('b', 2)])"
      ]
     },
     "execution_count": 40,
     "metadata": {},
     "output_type": "execute_result"
    }
   ],
   "source": [
    "from codetransformer.transformers.literals import ordereddict_literals\n",
    "\n",
    "@ordereddict_literals\n",
    "def make_dictionary(a, b):\n",
    "    return {a: 1, b: 2}\n",
    "\n",
    "make_dictionary('a', 'b')"
   ]
  },
  {
   "cell_type": "markdown",
   "metadata": {
    "slideshow": {
     "slide_type": "slide"
    }
   },
   "source": [
    "# Bytecode Transformer Summary\n",
    "\n",
    "- Doesn't require external setup.\n",
    "- Can be applied on a per-function basis like any other decorator.\n",
    "- Relies on CPython implementation details:\n",
    "  - Only works in CPython (no PyPy).\n",
    "  - Significant changes between minor versions.\n",
    "- Bugs can cause segfaults."
   ]
  },
  {
   "cell_type": "markdown",
   "metadata": {
    "slideshow": {
     "slide_type": "slide"
    }
   },
   "source": [
    "# Conclusions\n",
    "\n",
    "- Python's standard metaprogramming tools are pretty awesome.\n",
    "- Import Hooks and Custom Encodings allow us to extend syntax if we're willing to depend on global setup.\n",
    "- Bytecode transformers give is isolated, composable transformations, at the cost of cross-platform compatibility."
   ]
  },
  {
   "cell_type": "markdown",
   "metadata": {
    "slideshow": {
     "slide_type": "subslide"
    }
   },
   "source": [
    "# Thanks!\n",
    "\n",
    "- **Talk Content:** [https://github.com/ssanderson/pybay2016](https://github.com/ssanderson/pybay2016)\n",
    "- **Twitter:** [@scottbsanderson](https://twitter.com/scottbsanderson)\n",
    "- **GitHub:** [ssanderson](github.com/ssanderson)"
   ]
  }
 ],
 "metadata": {
  "celltoolbar": "Slideshow",
  "kernelspec": {
   "display_name": "Python 3",
   "language": "python",
   "name": "python3"
  },
  "language_info": {
   "codemirror_mode": {
    "name": "ipython",
    "version": 3
   },
   "file_extension": ".py",
   "mimetype": "text/x-python",
   "name": "python",
   "nbconvert_exporter": "python",
   "pygments_lexer": "ipython3",
   "version": "3.4.3+"
  }
 },
 "nbformat": 4,
 "nbformat_minor": 0
}
